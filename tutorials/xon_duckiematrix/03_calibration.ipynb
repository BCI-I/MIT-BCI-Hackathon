{
 "cells": [
  {
   "cell_type": "markdown",
   "metadata": {},
   "source": [
    "# Calibration\n",
    "In this notebook we will see how to design, implement and train a machine learning model to provide inputs to the Duckiebot using EEG data. \n",
    "We will use code very similar to the one you wrote in the previous notebook to stream and filter the EEG data and to extract the features. \n",
    "\n",
    "\n",
    "To convert EEG features to calibrated (rotation, speed) actions, we ran a calibration protocol during which a subject tracked a ball representing (rotation, speed) as it traversed a display, and an MLP neural network learned the mapping from EEG features to (rotation, speed). See calibration.py for details."
   ]
  },
  {
   "cell_type": "markdown",
   "metadata": {},
   "source": []
  }
 ],
 "metadata": {
  "language_info": {
   "name": "python"
  }
 },
 "nbformat": 4,
 "nbformat_minor": 2
}
