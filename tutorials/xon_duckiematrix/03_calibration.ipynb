{
 "cells": [
  {
   "cell_type": "markdown",
   "metadata": {},
   "source": [
    "# Calibration\n",
    "In this notebook we will see how to design, implement and train a machine learning model to provide inputs to the Duckiebot using EEG data. \n",
    "We will use code very similar to the one you wrote in the previous notebook to stream and filter the EEG data and to extract the features. \n",
    "\n",
    "\n",
    "The calibration learns the mapping between the input space (EEG) and\n",
    "the (rotation, speed) action space for the duckie. The action space is\n",
    "2-dimensional and is represented by a rectangular visual display. To calibrate,\n",
    "a red ball travels via a serpentine pattern in this display. The user should\n",
    "simultaneously track the ball. After completing it's tour, a model is trained\n",
    "and saved, and the process repeats. The model trains after each trial, and the\n",
    "model-decoded ball is displayed as a green ball. These trials will loop (and the\n",
    "calibration will improve) indefinitely, so terminate the program whenever you\n",
    "think it is good enough. When you terminate, it may take a couple seconds to\n",
    "navigate to the terminal to do so, during which your EEG input will not be good\n",
    "for calibration, so when you want to terminate we recommend focusing on the\n",
    "calibration through the end of a trial, waiting for the next trial to start\n",
    "(indicating training for the previous trial has completed), then terminate\n",
    "before the new trial ends.\n",
    "\n",
    "In practice, for the duckie controller in duckie.py, only the rotation component\n",
    "of the action space is used. So to calibrate you can ignore the vertical\n",
    "(height) axis and just focus on left/right. Clenching your jaw on the left and\n",
    "right side to track the left/right position of the red ball leads to pretty good\n",
    "calibration."
   ]
  },
  {
   "cell_type": "markdown",
   "metadata": {},
   "source": []
  }
 ],
 "metadata": {
  "language_info": {
   "name": "python"
  }
 },
 "nbformat": 4,
 "nbformat_minor": 2
}
